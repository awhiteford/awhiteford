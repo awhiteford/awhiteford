{
 "cells": [
  {
   "cell_type": "code",
   "execution_count": 1,
   "id": "939b4fe6",
   "metadata": {},
   "outputs": [
    {
     "name": "stdout",
     "output_type": "stream",
     "text": [
      "Requirement already satisfied: geopy in /Users/alexwhiteford/opt/anaconda3/lib/python3.9/site-packages (2.3.0)\n",
      "Requirement already satisfied: geographiclib<3,>=1.52 in /Users/alexwhiteford/opt/anaconda3/lib/python3.9/site-packages (from geopy) (2.0)\n"
     ]
    }
   ],
   "source": [
    "import pandas as pd\n",
    "import numpy as np\n",
    "import matplotlib.pyplot as plt\n",
    "import seaborn as sns\n",
    "from datetime import datetime, timedelta\n",
    "\n",
    "!pip install geopy\n",
    "from geopy.distance import geodesic\n",
    "import geopy.distance"
   ]
  },
  {
   "cell_type": "code",
   "execution_count": 2,
   "id": "3a0b106d",
   "metadata": {},
   "outputs": [
    {
     "name": "stdout",
     "output_type": "stream",
     "text": [
      "       Unnamed: 0       ID Delivery_person_ID  Delivery_person_Age  \\\n",
      "0               0  0x4607     INDORES13DEL02                  37.0   \n",
      "1               1  0xb379     BANGRES18DEL02                  34.0   \n",
      "2               2  0x5d6d     BANGRES19DEL01                  23.0   \n",
      "3               3  0x7a6a    COIMBRES13DEL02                  38.0   \n",
      "4               4  0x70a2     CHENRES12DEL01                  32.0   \n",
      "...           ...      ...                ...                  ...   \n",
      "45588       45588  0x7c09      JAPRES04DEL01                  30.0   \n",
      "45589       45589  0xd641      AGRRES16DEL01                  21.0   \n",
      "45590       45590  0x4f8d     CHENRES08DEL03                  30.0   \n",
      "45591       45591  0x5eee    COIMBRES11DEL01                  20.0   \n",
      "45592       45592  0x5fb2   RANCHIRES09DEL02                  23.0   \n",
      "\n",
      "       Delivery_person_Ratings  Restaurant_latitude  Restaurant_longitude  \\\n",
      "0                          4.9            22.745049             75.892471   \n",
      "1                          4.5            12.913041             77.683237   \n",
      "2                          4.4            12.914264             77.678400   \n",
      "3                          4.7            11.003669             76.976494   \n",
      "4                          4.6            12.972793             80.249982   \n",
      "...                        ...                  ...                   ...   \n",
      "45588                      4.8            26.902328             75.794257   \n",
      "45589                      4.6             0.000000              0.000000   \n",
      "45590                      4.9            13.022394             80.242439   \n",
      "45591                      4.7            11.001753             76.986241   \n",
      "45592                      4.9            23.351058             85.325731   \n",
      "\n",
      "       Delivery_location_latitude  Delivery_location_longitude  Order_Date  \\\n",
      "0                       22.765049                    75.912471  19-03-2022   \n",
      "1                       13.043041                    77.813237  25-03-2022   \n",
      "2                       12.924264                    77.688400  19-03-2022   \n",
      "3                       11.053669                    77.026494  05-04-2022   \n",
      "4                       13.012793                    80.289982  26-03-2022   \n",
      "...                           ...                          ...         ...   \n",
      "45588                   26.912328                    75.804257  24-03-2022   \n",
      "45589                    0.070000                     0.070000  16-02-2022   \n",
      "45590                   13.052394                    80.272439  11-03-2022   \n",
      "45591                   11.041753                    77.026241  07-03-2022   \n",
      "45592                   23.431058                    85.405731  02-03-2022   \n",
      "\n",
      "      Time_Orderd Time_Order_picked Weatherconditions Road_traffic_density  \\\n",
      "0        11:30:00          11:45:00             Sunny                High    \n",
      "1        19:45:00          19:50:00            Stormy                 Jam    \n",
      "2        08:30:00          08:45:00        Sandstorms                 Low    \n",
      "3        18:00:00          18:10:00             Sunny              Medium    \n",
      "4        13:30:00          13:45:00            Cloudy                High    \n",
      "...           ...               ...               ...                  ...   \n",
      "45588    11:35:00          11:45:00             Windy                High    \n",
      "45589    19:55:00          20:10:00             Windy                 Jam    \n",
      "45590    23:50:00          00:05:00            Cloudy                 Low    \n",
      "45591    13:35:00          13:40:00            Cloudy                High    \n",
      "45592    17:10:00          17:15:00               Fog              Medium    \n",
      "\n",
      "      Type_of_order Type_of_vehicle  multiple_deliveries            City  \\\n",
      "0            Snack      motorcycle                   0.0          Urban    \n",
      "1            Snack         scooter                   1.0  Metropolitian    \n",
      "2           Drinks      motorcycle                   1.0          Urban    \n",
      "3           Buffet      motorcycle                   1.0  Metropolitian    \n",
      "4            Snack         scooter                   1.0  Metropolitian    \n",
      "...             ...             ...                  ...             ...   \n",
      "45588         Meal      motorcycle                   0.0  Metropolitian    \n",
      "45589       Buffet      motorcycle                   1.0  Metropolitian    \n",
      "45590       Drinks         scooter                   0.0  Metropolitian    \n",
      "45591        Snack      motorcycle                   1.0  Metropolitian    \n",
      "45592        Snack         scooter                   1.0  Metropolitian    \n",
      "\n",
      "       Time_taken(min)  \n",
      "0                   24  \n",
      "1                   33  \n",
      "2                   26  \n",
      "3                   21  \n",
      "4                   30  \n",
      "...                ...  \n",
      "45588               32  \n",
      "45589               36  \n",
      "45590               16  \n",
      "45591               26  \n",
      "45592               36  \n",
      "\n",
      "[45593 rows x 19 columns]\n"
     ]
    }
   ],
   "source": [
    "file = 'clean_delivery.csv'\n",
    "delivery = pd.read_csv(file, index_col=False)\n",
    "print(delivery)"
   ]
  },
  {
   "cell_type": "code",
   "execution_count": 3,
   "id": "dcd70156",
   "metadata": {},
   "outputs": [
    {
     "data": {
      "text/plain": [
       "<AxesSubplot:xlabel='Time_taken(min)', ylabel='Count'>"
      ]
     },
     "execution_count": 3,
     "metadata": {},
     "output_type": "execute_result"
    },
    {
     "data": {
      "image/png": "[encoded data removed]",
      "text/plain": [
       "<Figure size 432x288 with 1 Axes>"
      ]
     },
     "metadata": {
      "needs_background": "light"
     },
     "output_type": "display_data"
    }
   ],
   "source": [
    "# let's observe each individual category and see how relevant they might be\n",
    "# if a category is potentially irrelevant, wait to clean it until necessary\n",
    "sns.histplot(x='Time_taken(min)', data=delivery)"
   ]
  },
  {
   "cell_type": "code",
   "execution_count": 4,
   "id": "6a56eadd",
   "metadata": {},
   "outputs": [
    {
     "data": {
      "text/plain": [
       "Metropolitian     34093\n",
       "Urban             10136\n",
       "Semi-Urban          164\n",
       "Name: City, dtype: int64"
      ]
     },
     "execution_count": 4,
     "metadata": {},
     "output_type": "execute_result"
    }
   ],
   "source": [
    "delivery['City'].value_counts()"
   ]
  },
  {
   "cell_type": "code",
   "execution_count": 5,
   "id": "784cf075",
   "metadata": {},
   "outputs": [
    {
     "data": {
      "text/plain": [
       " Fog           7654\n",
       " Stormy        7586\n",
       " Cloudy        7536\n",
       " Sandstorms    7495\n",
       " Windy         7422\n",
       " Sunny         7284\n",
       "Name: Weatherconditions, dtype: int64"
      ]
     },
     "execution_count": 5,
     "metadata": {},
     "output_type": "execute_result"
    }
   ],
   "source": [
    "delivery['Weatherconditions'].value_counts()"
   ]
  },
  {
   "cell_type": "code",
   "execution_count": 6,
   "id": "e3521832",
   "metadata": {},
   "outputs": [
    {
     "data": {
      "text/plain": [
       "Low        15477\n",
       "Jam        14143\n",
       "Medium     10947\n",
       "High        4425\n",
       "Name: Road_traffic_density, dtype: int64"
      ]
     },
     "execution_count": 6,
     "metadata": {},
     "output_type": "execute_result"
    }
   ],
   "source": [
    "delivery['Road_traffic_density'].value_counts()"
   ]
  },
  {
   "cell_type": "code",
   "execution_count": 7,
   "id": "337d1bbe",
   "metadata": {},
   "outputs": [
    {
     "data": {
      "text/plain": [
       "1.0    28159\n",
       "0.0    14095\n",
       "2.0     1985\n",
       "3.0      361\n",
       "Name: multiple_deliveries, dtype: int64"
      ]
     },
     "execution_count": 7,
     "metadata": {},
     "output_type": "execute_result"
    }
   ],
   "source": [
    "delivery['multiple_deliveries'].value_counts()"
   ]
  },
  {
   "cell_type": "code",
   "execution_count": 8,
   "id": "3a1166c5",
   "metadata": {},
   "outputs": [
    {
     "name": "stdout",
     "output_type": "stream",
     "text": [
      "<class 'pandas.core.frame.DataFrame'>\n",
      "RangeIndex: 45593 entries, 0 to 45592\n",
      "Data columns (total 19 columns):\n",
      " #   Column                       Non-Null Count  Dtype  \n",
      "---  ------                       --------------  -----  \n",
      " 0   Unnamed: 0                   45593 non-null  int64  \n",
      " 1   ID                           45593 non-null  object \n",
      " 2   Delivery_person_ID           45593 non-null  object \n",
      " 3   Delivery_person_Age          43739 non-null  float64\n",
      " 4   Delivery_person_Ratings      43685 non-null  float64\n",
      " 5   Restaurant_latitude          45593 non-null  float64\n",
      " 6   Restaurant_longitude         45593 non-null  float64\n",
      " 7   Delivery_location_latitude   45593 non-null  float64\n",
      " 8   Delivery_location_longitude  45593 non-null  float64\n",
      " 9   Order_Date                   45593 non-null  object \n",
      " 10  Time_Orderd                  43862 non-null  object \n",
      " 11  Time_Order_picked            45593 non-null  object \n",
      " 12  Weatherconditions            44977 non-null  object \n",
      " 13  Road_traffic_density         44992 non-null  object \n",
      " 14  Type_of_order                45593 non-null  object \n",
      " 15  Type_of_vehicle              45593 non-null  object \n",
      " 16  multiple_deliveries          44600 non-null  float64\n",
      " 17  City                         44393 non-null  object \n",
      " 18  Time_taken(min)              45593 non-null  int64  \n",
      "dtypes: float64(7), int64(2), object(10)\n",
      "memory usage: 6.6+ MB\n"
     ]
    }
   ],
   "source": [
    "delivery.info()"
   ]
  },
  {
   "cell_type": "raw",
   "id": "e7575f01",
   "metadata": {},
   "source": [
    "# Columns that aren't useful: Unnamed: 0, Delivery_person_ID, Delivery_person_Age, Delivery_person_Ratings, City, Type_of_order, Type_of_vehicle\n",
    "# It shouldn't matter what you order, the rating or age of the delivery person, what the vehicle delivering it is, that should not affect the delivery time.\n",
    "# Ideally multiple_deliveries or order_date (weekend orders perhaps) should not impact the delivery time\n",
    "# Main focus on: \n",
    "- long/lat locations (4 cols), \n",
    "- ID (change name), \n",
    "- Time_Orderd, \n",
    "- Time_Order_picked, \n",
    "- Weatherconditions (can't control this, maybe more advanced weather monitoring to be done thru other department, OR just add buffer period depending on severity of weather), \n",
    "- Road_traffic_density (using either google maps api or approximating new delivery time based on severity of traffic)\n",
    "- Time_taken(min) (change name?) (most important column of data)"
   ]
  },
  {
   "cell_type": "code",
   "execution_count": 9,
   "id": "8b7c5c7a",
   "metadata": {},
   "outputs": [],
   "source": [
    "delivery = delivery.drop(columns=['Unnamed: 0', 'Delivery_person_ID', 'Delivery_person_Age', 'Delivery_person_Ratings', 'Type_of_vehicle', 'Type_of_order', 'City'])"
   ]
  },
  {
   "cell_type": "code",
   "execution_count": 10,
   "id": "fbba5a65",
   "metadata": {},
   "outputs": [
    {
     "name": "stdout",
     "output_type": "stream",
     "text": [
      "<class 'pandas.core.frame.DataFrame'>\n",
      "RangeIndex: 45593 entries, 0 to 45592\n",
      "Data columns (total 12 columns):\n",
      " #   Column                       Non-Null Count  Dtype  \n",
      "---  ------                       --------------  -----  \n",
      " 0   ID                           45593 non-null  object \n",
      " 1   Restaurant_latitude          45593 non-null  float64\n",
      " 2   Restaurant_longitude         45593 non-null  float64\n",
      " 3   Delivery_location_latitude   45593 non-null  float64\n",
      " 4   Delivery_location_longitude  45593 non-null  float64\n",
      " 5   Order_Date                   45593 non-null  object \n",
      " 6   Time_Orderd                  43862 non-null  object \n",
      " 7   Time_Order_picked            45593 non-null  object \n",
      " 8   Weatherconditions            44977 non-null  object \n",
      " 9   Road_traffic_density         44992 non-null  object \n",
      " 10  multiple_deliveries          44600 non-null  float64\n",
      " 11  Time_taken(min)              45593 non-null  int64  \n",
      "dtypes: float64(5), int64(1), object(6)\n",
      "memory usage: 4.2+ MB\n",
      "None\n"
     ]
    }
   ],
   "source": [
    "#delivery = delivery.rename(columns = {'Weatherconditions':'Weather'})\n",
    "#delivery = delivery.rename(columns = {'ID':'Order_ID'})\n",
    "#delivery = delivery.rename(columns = {'Time_Orderd':'Time_Ordered'})\n",
    "print(delivery.info())"
   ]
  },
  {
   "cell_type": "code",
   "execution_count": 11,
   "id": "03721e5a",
   "metadata": {
    "scrolled": true
   },
   "outputs": [
    {
     "data": {
      "text/plain": [
       "0    19-03-2022\n",
       "1    25-03-2022\n",
       "2    19-03-2022\n",
       "3    05-04-2022\n",
       "4    26-03-2022\n",
       "Name: Order_Date, dtype: object"
      ]
     },
     "execution_count": 11,
     "metadata": {},
     "output_type": "execute_result"
    }
   ],
   "source": [
    "delivery['Order_Date'].head()"
   ]
  },
  {
   "cell_type": "code",
   "execution_count": 12,
   "id": "3e7d4bc3",
   "metadata": {},
   "outputs": [
    {
     "data": {
      "text/plain": [
       "0    11:30:00\n",
       "1    19:45:00\n",
       "2    08:30:00\n",
       "3    18:00:00\n",
       "4    13:30:00\n",
       "Name: Time_Orderd, dtype: object"
      ]
     },
     "execution_count": 12,
     "metadata": {},
     "output_type": "execute_result"
    }
   ],
   "source": [
    "delivery['Time_Orderd'].head()"
   ]
  },
  {
   "cell_type": "code",
   "execution_count": 13,
   "id": "68ef3900",
   "metadata": {},
   "outputs": [
    {
     "data": {
      "text/plain": [
       "0    11:45:00\n",
       "1    19:50:00\n",
       "2    08:45:00\n",
       "3    18:10:00\n",
       "4    13:45:00\n",
       "Name: Time_Order_picked, dtype: object"
      ]
     },
     "execution_count": 13,
     "metadata": {},
     "output_type": "execute_result"
    }
   ],
   "source": [
    "delivery['Time_Order_picked'].head()"
   ]
  },
  {
   "cell_type": "raw",
   "id": "796454dc",
   "metadata": {},
   "source": [
    "# Time -- 1. datetime: to aggregate times into one date and column? 2. timedelta: to find the difference\n",
    "# between pick up time and delivery time"
   ]
  },
  {
   "cell_type": "code",
   "execution_count": 14,
   "id": "cfb62781",
   "metadata": {},
   "outputs": [],
   "source": [
    "columns = ['ID','Order_Date','Time_Orderd','Time_Order_picked','Weatherconditions','Road_traffic_density','multiple_deliveries','Time_taken(min)','Restaurant_latitude','Restaurant_longitude','Delivery_location_longitude','Delivery_location_latitude']"
   ]
  },
  {
   "cell_type": "code",
   "execution_count": 15,
   "id": "96335c39",
   "metadata": {},
   "outputs": [
    {
     "data": {
      "text/html": [
       "<div>\n",
       "<style scoped>\n",
       "    .dataframe tbody tr th:only-of-type {\n",
       "        vertical-align: middle;\n",
       "    }\n",
       "\n",
       "    .dataframe tbody tr th {\n",
       "        vertical-align: top;\n",
       "    }\n",
       "\n",
       "    .dataframe thead th {\n",
       "        text-align: right;\n",
       "    }\n",
       "</style>\n",
       "<table border=\"1\" class=\"dataframe\">\n",
       "  <thead>\n",
       "    <tr style=\"text-align: right;\">\n",
       "      <th></th>\n",
       "      <th>ID</th>\n",
       "      <th>Order_Date</th>\n",
       "      <th>Time_Orderd</th>\n",
       "      <th>Time_Order_picked</th>\n",
       "      <th>Weatherconditions</th>\n",
       "      <th>Road_traffic_density</th>\n",
       "      <th>multiple_deliveries</th>\n",
       "      <th>Time_taken(min)</th>\n",
       "      <th>Restaurant_latitude</th>\n",
       "      <th>Restaurant_longitude</th>\n",
       "      <th>Delivery_location_longitude</th>\n",
       "      <th>Delivery_location_latitude</th>\n",
       "    </tr>\n",
       "  </thead>\n",
       "  <tbody>\n",
       "    <tr>\n",
       "      <th>0</th>\n",
       "      <td>0x4607</td>\n",
       "      <td>19-03-2022</td>\n",
       "      <td>11:30:00</td>\n",
       "      <td>11:45:00</td>\n",
       "      <td>Sunny</td>\n",
       "      <td>High</td>\n",
       "      <td>0.0</td>\n",
       "      <td>24</td>\n",
       "      <td>22.745049</td>\n",
       "      <td>75.892471</td>\n",
       "      <td>75.912471</td>\n",
       "      <td>22.765049</td>\n",
       "    </tr>\n",
       "    <tr>\n",
       "      <th>1</th>\n",
       "      <td>0xb379</td>\n",
       "      <td>25-03-2022</td>\n",
       "      <td>19:45:00</td>\n",
       "      <td>19:50:00</td>\n",
       "      <td>Stormy</td>\n",
       "      <td>Jam</td>\n",
       "      <td>1.0</td>\n",
       "      <td>33</td>\n",
       "      <td>12.913041</td>\n",
       "      <td>77.683237</td>\n",
       "      <td>77.813237</td>\n",
       "      <td>13.043041</td>\n",
       "    </tr>\n",
       "    <tr>\n",
       "      <th>2</th>\n",
       "      <td>0x5d6d</td>\n",
       "      <td>19-03-2022</td>\n",
       "      <td>08:30:00</td>\n",
       "      <td>08:45:00</td>\n",
       "      <td>Sandstorms</td>\n",
       "      <td>Low</td>\n",
       "      <td>1.0</td>\n",
       "      <td>26</td>\n",
       "      <td>12.914264</td>\n",
       "      <td>77.678400</td>\n",
       "      <td>77.688400</td>\n",
       "      <td>12.924264</td>\n",
       "    </tr>\n",
       "    <tr>\n",
       "      <th>3</th>\n",
       "      <td>0x7a6a</td>\n",
       "      <td>05-04-2022</td>\n",
       "      <td>18:00:00</td>\n",
       "      <td>18:10:00</td>\n",
       "      <td>Sunny</td>\n",
       "      <td>Medium</td>\n",
       "      <td>1.0</td>\n",
       "      <td>21</td>\n",
       "      <td>11.003669</td>\n",
       "      <td>76.976494</td>\n",
       "      <td>77.026494</td>\n",
       "      <td>11.053669</td>\n",
       "    </tr>\n",
       "    <tr>\n",
       "      <th>4</th>\n",
       "      <td>0x70a2</td>\n",
       "      <td>26-03-2022</td>\n",
       "      <td>13:30:00</td>\n",
       "      <td>13:45:00</td>\n",
       "      <td>Cloudy</td>\n",
       "      <td>High</td>\n",
       "      <td>1.0</td>\n",
       "      <td>30</td>\n",
       "      <td>12.972793</td>\n",
       "      <td>80.249982</td>\n",
       "      <td>80.289982</td>\n",
       "      <td>13.012793</td>\n",
       "    </tr>\n",
       "  </tbody>\n",
       "</table>\n",
       "</div>"
      ],
      "text/plain": [
       "        ID  Order_Date Time_Orderd Time_Order_picked Weatherconditions  \\\n",
       "0  0x4607   19-03-2022    11:30:00          11:45:00             Sunny   \n",
       "1  0xb379   25-03-2022    19:45:00          19:50:00            Stormy   \n",
       "2  0x5d6d   19-03-2022    08:30:00          08:45:00        Sandstorms   \n",
       "3  0x7a6a   05-04-2022    18:00:00          18:10:00             Sunny   \n",
       "4  0x70a2   26-03-2022    13:30:00          13:45:00            Cloudy   \n",
       "\n",
       "  Road_traffic_density  multiple_deliveries  Time_taken(min)  \\\n",
       "0                High                   0.0               24   \n",
       "1                 Jam                   1.0               33   \n",
       "2                 Low                   1.0               26   \n",
       "3              Medium                   1.0               21   \n",
       "4                High                   1.0               30   \n",
       "\n",
       "   Restaurant_latitude  Restaurant_longitude  Delivery_location_longitude  \\\n",
       "0            22.745049             75.892471                    75.912471   \n",
       "1            12.913041             77.683237                    77.813237   \n",
       "2            12.914264             77.678400                    77.688400   \n",
       "3            11.003669             76.976494                    77.026494   \n",
       "4            12.972793             80.249982                    80.289982   \n",
       "\n",
       "   Delivery_location_latitude  \n",
       "0                   22.765049  \n",
       "1                   13.043041  \n",
       "2                   12.924264  \n",
       "3                   11.053669  \n",
       "4                   13.012793  "
      ]
     },
     "execution_count": 15,
     "metadata": {},
     "output_type": "execute_result"
    }
   ],
   "source": [
    "delivery = delivery.loc[:, columns]\n",
    "delivery.head()"
   ]
  },
  {
   "cell_type": "code",
   "execution_count": 25,
   "id": "b607439a",
   "metadata": {},
   "outputs": [
    {
     "ename": "ValueError",
     "evalue": "could not convert string to float: '0x4607 '",
     "output_type": "error",
     "traceback": [
      "\u001b[0;31m---------------------------------------------------------------------------\u001b[0m",
      "\u001b[0;31mValueError\u001b[0m                                Traceback (most recent call last)",
      "Input \u001b[0;32mIn [25]\u001b[0m, in \u001b[0;36m<cell line: 3>\u001b[0;34m()\u001b[0m\n\u001b[1;32m      1\u001b[0m \u001b[38;5;66;03m# hot_delivery = delivery['ID'].pop\u001b[39;00m\n\u001b[0;32m----> 3\u001b[0m heap \u001b[38;5;241m=\u001b[39m \u001b[43msns\u001b[49m\u001b[38;5;241;43m.\u001b[39;49m\u001b[43mheatmap\u001b[49m\u001b[43m(\u001b[49m\u001b[43mdelivery\u001b[49m\u001b[43m)\u001b[49m\n\u001b[1;32m      4\u001b[0m plt\u001b[38;5;241m.\u001b[39mshow()\n",
      "File \u001b[0;32m~/opt/anaconda3/lib/python3.9/site-packages/seaborn/_decorators.py:46\u001b[0m, in \u001b[0;36m_deprecate_positional_args.<locals>.inner_f\u001b[0;34m(*args, **kwargs)\u001b[0m\n\u001b[1;32m     36\u001b[0m     warnings\u001b[38;5;241m.\u001b[39mwarn(\n\u001b[1;32m     37\u001b[0m         \u001b[38;5;124m\"\u001b[39m\u001b[38;5;124mPass the following variable\u001b[39m\u001b[38;5;132;01m{}\u001b[39;00m\u001b[38;5;124m as \u001b[39m\u001b[38;5;132;01m{}\u001b[39;00m\u001b[38;5;124mkeyword arg\u001b[39m\u001b[38;5;132;01m{}\u001b[39;00m\u001b[38;5;124m: \u001b[39m\u001b[38;5;132;01m{}\u001b[39;00m\u001b[38;5;124m. \u001b[39m\u001b[38;5;124m\"\u001b[39m\n\u001b[1;32m     38\u001b[0m         \u001b[38;5;124m\"\u001b[39m\u001b[38;5;124mFrom version 0.12, the only valid positional argument \u001b[39m\u001b[38;5;124m\"\u001b[39m\n\u001b[0;32m   (...)\u001b[0m\n\u001b[1;32m     43\u001b[0m         \u001b[38;5;167;01mFutureWarning\u001b[39;00m\n\u001b[1;32m     44\u001b[0m     )\n\u001b[1;32m     45\u001b[0m kwargs\u001b[38;5;241m.\u001b[39mupdate({k: arg \u001b[38;5;28;01mfor\u001b[39;00m k, arg \u001b[38;5;129;01min\u001b[39;00m \u001b[38;5;28mzip\u001b[39m(sig\u001b[38;5;241m.\u001b[39mparameters, args)})\n\u001b[0;32m---> 46\u001b[0m \u001b[38;5;28;01mreturn\u001b[39;00m \u001b[43mf\u001b[49m\u001b[43m(\u001b[49m\u001b[38;5;241;43m*\u001b[39;49m\u001b[38;5;241;43m*\u001b[39;49m\u001b[43mkwargs\u001b[49m\u001b[43m)\u001b[49m\n",
      "File \u001b[0;32m~/opt/anaconda3/lib/python3.9/site-packages/seaborn/matrix.py:540\u001b[0m, in \u001b[0;36mheatmap\u001b[0;34m(data, vmin, vmax, cmap, center, robust, annot, fmt, annot_kws, linewidths, linecolor, cbar, cbar_kws, cbar_ax, square, xticklabels, yticklabels, mask, ax, **kwargs)\u001b[0m\n\u001b[1;32m    362\u001b[0m \u001b[38;5;124;03m\"\"\"Plot rectangular data as a color-encoded matrix.\u001b[39;00m\n\u001b[1;32m    363\u001b[0m \n\u001b[1;32m    364\u001b[0m \u001b[38;5;124;03mThis is an Axes-level function and will draw the heatmap into the\u001b[39;00m\n\u001b[0;32m   (...)\u001b[0m\n\u001b[1;32m    537\u001b[0m \u001b[38;5;124;03m    ...     ax = sns.heatmap(corr, mask=mask, vmax=.3, square=True)\u001b[39;00m\n\u001b[1;32m    538\u001b[0m \u001b[38;5;124;03m\"\"\"\u001b[39;00m\n\u001b[1;32m    539\u001b[0m \u001b[38;5;66;03m# Initialize the plotter object\u001b[39;00m\n\u001b[0;32m--> 540\u001b[0m plotter \u001b[38;5;241m=\u001b[39m \u001b[43m_HeatMapper\u001b[49m\u001b[43m(\u001b[49m\u001b[43mdata\u001b[49m\u001b[43m,\u001b[49m\u001b[43m \u001b[49m\u001b[43mvmin\u001b[49m\u001b[43m,\u001b[49m\u001b[43m \u001b[49m\u001b[43mvmax\u001b[49m\u001b[43m,\u001b[49m\u001b[43m \u001b[49m\u001b[43mcmap\u001b[49m\u001b[43m,\u001b[49m\u001b[43m \u001b[49m\u001b[43mcenter\u001b[49m\u001b[43m,\u001b[49m\u001b[43m \u001b[49m\u001b[43mrobust\u001b[49m\u001b[43m,\u001b[49m\u001b[43m \u001b[49m\u001b[43mannot\u001b[49m\u001b[43m,\u001b[49m\u001b[43m \u001b[49m\u001b[43mfmt\u001b[49m\u001b[43m,\u001b[49m\n\u001b[1;32m    541\u001b[0m \u001b[43m                      \u001b[49m\u001b[43mannot_kws\u001b[49m\u001b[43m,\u001b[49m\u001b[43m \u001b[49m\u001b[43mcbar\u001b[49m\u001b[43m,\u001b[49m\u001b[43m \u001b[49m\u001b[43mcbar_kws\u001b[49m\u001b[43m,\u001b[49m\u001b[43m \u001b[49m\u001b[43mxticklabels\u001b[49m\u001b[43m,\u001b[49m\n\u001b[1;32m    542\u001b[0m \u001b[43m                      \u001b[49m\u001b[43myticklabels\u001b[49m\u001b[43m,\u001b[49m\u001b[43m \u001b[49m\u001b[43mmask\u001b[49m\u001b[43m)\u001b[49m\n\u001b[1;32m    544\u001b[0m \u001b[38;5;66;03m# Add the pcolormesh kwargs here\u001b[39;00m\n\u001b[1;32m    545\u001b[0m kwargs[\u001b[38;5;124m\"\u001b[39m\u001b[38;5;124mlinewidths\u001b[39m\u001b[38;5;124m\"\u001b[39m] \u001b[38;5;241m=\u001b[39m linewidths\n",
      "File \u001b[0;32m~/opt/anaconda3/lib/python3.9/site-packages/seaborn/matrix.py:159\u001b[0m, in \u001b[0;36m_HeatMapper.__init__\u001b[0;34m(self, data, vmin, vmax, cmap, center, robust, annot, fmt, annot_kws, cbar, cbar_kws, xticklabels, yticklabels, mask)\u001b[0m\n\u001b[1;32m    156\u001b[0m \u001b[38;5;28mself\u001b[39m\u001b[38;5;241m.\u001b[39mylabel \u001b[38;5;241m=\u001b[39m ylabel \u001b[38;5;28;01mif\u001b[39;00m ylabel \u001b[38;5;129;01mis\u001b[39;00m \u001b[38;5;129;01mnot\u001b[39;00m \u001b[38;5;28;01mNone\u001b[39;00m \u001b[38;5;28;01melse\u001b[39;00m \u001b[38;5;124m\"\u001b[39m\u001b[38;5;124m\"\u001b[39m\n\u001b[1;32m    158\u001b[0m \u001b[38;5;66;03m# Determine good default values for the colormapping\u001b[39;00m\n\u001b[0;32m--> 159\u001b[0m \u001b[38;5;28;43mself\u001b[39;49m\u001b[38;5;241;43m.\u001b[39;49m\u001b[43m_determine_cmap_params\u001b[49m\u001b[43m(\u001b[49m\u001b[43mplot_data\u001b[49m\u001b[43m,\u001b[49m\u001b[43m \u001b[49m\u001b[43mvmin\u001b[49m\u001b[43m,\u001b[49m\u001b[43m \u001b[49m\u001b[43mvmax\u001b[49m\u001b[43m,\u001b[49m\n\u001b[1;32m    160\u001b[0m \u001b[43m                            \u001b[49m\u001b[43mcmap\u001b[49m\u001b[43m,\u001b[49m\u001b[43m \u001b[49m\u001b[43mcenter\u001b[49m\u001b[43m,\u001b[49m\u001b[43m \u001b[49m\u001b[43mrobust\u001b[49m\u001b[43m)\u001b[49m\n\u001b[1;32m    162\u001b[0m \u001b[38;5;66;03m# Sort out the annotations\u001b[39;00m\n\u001b[1;32m    163\u001b[0m \u001b[38;5;28;01mif\u001b[39;00m annot \u001b[38;5;129;01mis\u001b[39;00m \u001b[38;5;28;01mNone\u001b[39;00m \u001b[38;5;129;01mor\u001b[39;00m annot \u001b[38;5;129;01mis\u001b[39;00m \u001b[38;5;28;01mFalse\u001b[39;00m:\n",
      "File \u001b[0;32m~/opt/anaconda3/lib/python3.9/site-packages/seaborn/matrix.py:193\u001b[0m, in \u001b[0;36m_HeatMapper._determine_cmap_params\u001b[0;34m(self, plot_data, vmin, vmax, cmap, center, robust)\u001b[0m\n\u001b[1;32m    190\u001b[0m \u001b[38;5;124;03m\"\"\"Use some heuristics to set good defaults for colorbar and range.\"\"\"\u001b[39;00m\n\u001b[1;32m    192\u001b[0m \u001b[38;5;66;03m# plot_data is a np.ma.array instance\u001b[39;00m\n\u001b[0;32m--> 193\u001b[0m calc_data \u001b[38;5;241m=\u001b[39m \u001b[43mplot_data\u001b[49m\u001b[38;5;241;43m.\u001b[39;49m\u001b[43mastype\u001b[49m\u001b[43m(\u001b[49m\u001b[38;5;28;43mfloat\u001b[39;49m\u001b[43m)\u001b[49m\u001b[38;5;241m.\u001b[39mfilled(np\u001b[38;5;241m.\u001b[39mnan)\n\u001b[1;32m    194\u001b[0m \u001b[38;5;28;01mif\u001b[39;00m vmin \u001b[38;5;129;01mis\u001b[39;00m \u001b[38;5;28;01mNone\u001b[39;00m:\n\u001b[1;32m    195\u001b[0m     \u001b[38;5;28;01mif\u001b[39;00m robust:\n",
      "\u001b[0;31mValueError\u001b[0m: could not convert string to float: '0x4607 '"
     ]
    }
   ],
   "source": [
    "# hot_delivery = delivery['ID'].pop\n",
    "\n",
    "#heap = sns.heatmap(delivery)\n",
    "#plt.show()"
   ]
  },
  {
   "cell_type": "code",
   "execution_count": null,
   "id": "d1fb074e",
   "metadata": {},
   "outputs": [],
   "source": [
    "# Still in progress, will submit an additional link once finalized"
   ]
  }
 ],
 "metadata": {
  "kernelspec": {
   "display_name": "Python 3 (ipykernel)",
   "language": "python",
   "name": "python3"
  },
  "language_info": {
   "codemirror_mode": {
    "name": "ipython",
    "version": 3
   },
   "file_extension": ".py",
   "mimetype": "text/x-python",
   "name": "python",
   "nbconvert_exporter": "python",
   "pygments_lexer": "ipython3",
   "version": "3.9.12"
  }
 },
 "nbformat": 4,
 "nbformat_minor": 5
}
