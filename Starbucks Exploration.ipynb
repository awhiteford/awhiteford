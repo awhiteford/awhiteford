{
 "cells": [
  {
   "cell_type": "code",
   "execution_count": 1,
   "id": "935cd83f",
   "metadata": {},
   "outputs": [],
   "source": [
    "import pandas as pd\n",
    "import matplotlib.pyplot as plt\n",
    "import seaborn as sns\n",
    "import numpy as np\n",
    "import os"
   ]
  },
  {
   "cell_type": "code",
   "execution_count": 2,
   "id": "c36c4c2f",
   "metadata": {},
   "outputs": [
    {
     "data": {
      "text/html": [
       "<div>\n",
       "<style scoped>\n",
       "    .dataframe tbody tr th:only-of-type {\n",
       "        vertical-align: middle;\n",
       "    }\n",
       "\n",
       "    .dataframe tbody tr th {\n",
       "        vertical-align: top;\n",
       "    }\n",
       "\n",
       "    .dataframe thead th {\n",
       "        text-align: right;\n",
       "    }\n",
       "</style>\n",
       "<table border=\"1\" class=\"dataframe\">\n",
       "  <thead>\n",
       "    <tr style=\"text-align: right;\">\n",
       "      <th></th>\n",
       "      <th>Brand</th>\n",
       "      <th>Store Number</th>\n",
       "      <th>Store Name</th>\n",
       "      <th>Ownership Type</th>\n",
       "      <th>Street Address</th>\n",
       "      <th>City</th>\n",
       "      <th>State/Province</th>\n",
       "      <th>Country</th>\n",
       "      <th>Postcode</th>\n",
       "      <th>Phone Number</th>\n",
       "      <th>Timezone</th>\n",
       "      <th>Longitude</th>\n",
       "      <th>Latitude</th>\n",
       "    </tr>\n",
       "  </thead>\n",
       "  <tbody>\n",
       "    <tr>\n",
       "      <th>0</th>\n",
       "      <td>Starbucks</td>\n",
       "      <td>47370-257954</td>\n",
       "      <td>Meritxell, 96</td>\n",
       "      <td>Licensed</td>\n",
       "      <td>Av. Meritxell, 96</td>\n",
       "      <td>Andorra la Vella</td>\n",
       "      <td>7</td>\n",
       "      <td>AD</td>\n",
       "      <td>AD500</td>\n",
       "      <td>376818720</td>\n",
       "      <td>GMT+1:00 Europe/Andorra</td>\n",
       "      <td>1.53</td>\n",
       "      <td>42.51</td>\n",
       "    </tr>\n",
       "    <tr>\n",
       "      <th>1</th>\n",
       "      <td>Starbucks</td>\n",
       "      <td>22331-212325</td>\n",
       "      <td>Ajman Drive Thru</td>\n",
       "      <td>Licensed</td>\n",
       "      <td>1 Street 69, Al Jarf</td>\n",
       "      <td>Ajman</td>\n",
       "      <td>AJ</td>\n",
       "      <td>AE</td>\n",
       "      <td>NaN</td>\n",
       "      <td>NaN</td>\n",
       "      <td>GMT+04:00 Asia/Dubai</td>\n",
       "      <td>55.47</td>\n",
       "      <td>25.42</td>\n",
       "    </tr>\n",
       "    <tr>\n",
       "      <th>2</th>\n",
       "      <td>Starbucks</td>\n",
       "      <td>47089-256771</td>\n",
       "      <td>Dana Mall</td>\n",
       "      <td>Licensed</td>\n",
       "      <td>Sheikh Khalifa Bin Zayed St.</td>\n",
       "      <td>Ajman</td>\n",
       "      <td>AJ</td>\n",
       "      <td>AE</td>\n",
       "      <td>NaN</td>\n",
       "      <td>NaN</td>\n",
       "      <td>GMT+04:00 Asia/Dubai</td>\n",
       "      <td>55.47</td>\n",
       "      <td>25.39</td>\n",
       "    </tr>\n",
       "    <tr>\n",
       "      <th>3</th>\n",
       "      <td>Starbucks</td>\n",
       "      <td>22126-218024</td>\n",
       "      <td>Twofour 54</td>\n",
       "      <td>Licensed</td>\n",
       "      <td>Al Salam Street</td>\n",
       "      <td>Abu Dhabi</td>\n",
       "      <td>AZ</td>\n",
       "      <td>AE</td>\n",
       "      <td>NaN</td>\n",
       "      <td>NaN</td>\n",
       "      <td>GMT+04:00 Asia/Dubai</td>\n",
       "      <td>54.38</td>\n",
       "      <td>24.48</td>\n",
       "    </tr>\n",
       "    <tr>\n",
       "      <th>4</th>\n",
       "      <td>Starbucks</td>\n",
       "      <td>17127-178586</td>\n",
       "      <td>Al Ain Tower</td>\n",
       "      <td>Licensed</td>\n",
       "      <td>Khaldiya Area, Abu Dhabi Island</td>\n",
       "      <td>Abu Dhabi</td>\n",
       "      <td>AZ</td>\n",
       "      <td>AE</td>\n",
       "      <td>NaN</td>\n",
       "      <td>NaN</td>\n",
       "      <td>GMT+04:00 Asia/Dubai</td>\n",
       "      <td>54.54</td>\n",
       "      <td>24.51</td>\n",
       "    </tr>\n",
       "  </tbody>\n",
       "</table>\n",
       "</div>"
      ],
      "text/plain": [
       "       Brand  Store Number        Store Name Ownership Type  \\\n",
       "0  Starbucks  47370-257954     Meritxell, 96       Licensed   \n",
       "1  Starbucks  22331-212325  Ajman Drive Thru       Licensed   \n",
       "2  Starbucks  47089-256771         Dana Mall       Licensed   \n",
       "3  Starbucks  22126-218024        Twofour 54       Licensed   \n",
       "4  Starbucks  17127-178586      Al Ain Tower       Licensed   \n",
       "\n",
       "                    Street Address              City State/Province Country  \\\n",
       "0                Av. Meritxell, 96  Andorra la Vella              7      AD   \n",
       "1             1 Street 69, Al Jarf             Ajman             AJ      AE   \n",
       "2     Sheikh Khalifa Bin Zayed St.             Ajman             AJ      AE   \n",
       "3                  Al Salam Street         Abu Dhabi             AZ      AE   \n",
       "4  Khaldiya Area, Abu Dhabi Island         Abu Dhabi             AZ      AE   \n",
       "\n",
       "  Postcode Phone Number                 Timezone  Longitude  Latitude  \n",
       "0    AD500    376818720  GMT+1:00 Europe/Andorra       1.53     42.51  \n",
       "1      NaN          NaN     GMT+04:00 Asia/Dubai      55.47     25.42  \n",
       "2      NaN          NaN     GMT+04:00 Asia/Dubai      55.47     25.39  \n",
       "3      NaN          NaN     GMT+04:00 Asia/Dubai      54.38     24.48  \n",
       "4      NaN          NaN     GMT+04:00 Asia/Dubai      54.54     24.51  "
      ]
     },
     "execution_count": 2,
     "metadata": {},
     "output_type": "execute_result"
    }
   ],
   "source": [
    "star = pd.read_csv('starbucks.csv')\n",
    "star.head()"
   ]
  },
  {
   "cell_type": "code",
   "execution_count": 3,
   "id": "d32826a3",
   "metadata": {},
   "outputs": [
    {
     "data": {
      "text/plain": [
       "Index(['Brand', 'Store Number', 'Store Name', 'Ownership Type',\n",
       "       'Street Address', 'City', 'State/Province', 'Country', 'Postcode',\n",
       "       'Phone Number', 'Timezone', 'Longitude', 'Latitude'],\n",
       "      dtype='object')"
      ]
     },
     "execution_count": 3,
     "metadata": {},
     "output_type": "execute_result"
    }
   ],
   "source": [
    "star.columns"
   ]
  },
  {
   "cell_type": "code",
   "execution_count": 4,
   "id": "92382220",
   "metadata": {},
   "outputs": [
    {
     "data": {
      "text/plain": [
       "上海市              542\n",
       "Seoul            243\n",
       "北京市              234\n",
       "New York         232\n",
       "London           216\n",
       "                ... \n",
       "Tepebasi           1\n",
       "Isparta            1\n",
       "Mersin (Icel)      1\n",
       "Mersin Icel        1\n",
       "Midrand            1\n",
       "Name: City, Length: 5469, dtype: int64"
      ]
     },
     "execution_count": 4,
     "metadata": {},
     "output_type": "execute_result"
    }
   ],
   "source": [
    "star['City'].value_counts()"
   ]
  },
  {
   "cell_type": "code",
   "execution_count": 5,
   "id": "ec4f1caa",
   "metadata": {},
   "outputs": [],
   "source": [
    "star['City'] = star['City'].replace('上海市','Shanghai')\n",
    "star['City'] = star['City'].replace('北京市','Beijing')"
   ]
  },
  {
   "cell_type": "code",
   "execution_count": 7,
   "id": "63f0f832",
   "metadata": {},
   "outputs": [
    {
     "data": {
      "text/plain": [
       "Shanghai         544\n",
       "Seoul            243\n",
       "Beijing          234\n",
       "New York         232\n",
       "London           216\n",
       "                ... \n",
       "Tepebasi           1\n",
       "Isparta            1\n",
       "Mersin (Icel)      1\n",
       "Mersin Icel        1\n",
       "Midrand            1\n",
       "Name: City, Length: 5468, dtype: int64"
      ]
     },
     "execution_count": 7,
     "metadata": {},
     "output_type": "execute_result"
    }
   ],
   "source": [
    "star['City'].value_counts()"
   ]
  },
  {
   "cell_type": "markdown",
   "id": "36584093",
   "metadata": {},
   "source": [
    "Plotting the top 10 cities in the world that have the most Starbucks locations"
   ]
  },
  {
   "cell_type": "code",
   "execution_count": 14,
   "id": "8a7665a5",
   "metadata": {},
   "outputs": [
    {
     "data": {
      "image/png": "[encoded data removed]",
      "text/plain": [
       "<Figure size 720x360 with 1 Axes>"
      ]
     },
     "metadata": {
      "needs_background": "light"
     },
     "output_type": "display_data"
    }
   ],
   "source": [
    "cities = star['City'].value_counts()\n",
    "cities = cities[:10,]\n",
    "plt.figure(figsize=(10,5))\n",
    "sns.barplot(x=cities.index, y=cities.values, alpha=0.8)\n",
    "plt.title('Cities with the most Starbucks establishments')\n",
    "plt.xlabel('City')\n",
    "plt.ylabel('Number of Starbucks establishments')\n",
    "plt.show()"
   ]
  },
  {
   "cell_type": "markdown",
   "id": "c483a22b",
   "metadata": {},
   "source": [
    "Plotting the top 10 counties in the world that have the most Starbucks locations"
   ]
  },
  {
   "cell_type": "code",
   "execution_count": 12,
   "id": "dd2a591e",
   "metadata": {},
   "outputs": [
    {
     "data": {
      "text/plain": [
       "US    13608\n",
       "CN     2734\n",
       "CA     1468\n",
       "JP     1237\n",
       "KR      993\n",
       "      ...  \n",
       "CW        3\n",
       "AW        3\n",
       "MC        2\n",
       "LU        2\n",
       "AD        1\n",
       "Name: Country, Length: 73, dtype: int64"
      ]
     },
     "execution_count": 12,
     "metadata": {},
     "output_type": "execute_result"
    }
   ],
   "source": [
    "star['Country'].value_counts()"
   ]
  },
  {
   "cell_type": "code",
   "execution_count": 13,
   "id": "906fa317",
   "metadata": {},
   "outputs": [
    {
     "data": {
      "image/png": "[encoded data removed]",
      "text/plain": [
       "<Figure size 720x360 with 1 Axes>"
      ]
     },
     "metadata": {
      "needs_background": "light"
     },
     "output_type": "display_data"
    }
   ],
   "source": [
    "countries = star['Country'].value_counts()\n",
    "countries = countries[:10,]\n",
    "plt.figure(figsize=(10,5))\n",
    "sns.barplot(x=countries.index, y=countries.values, alpha=0.8)\n",
    "plt.title('Countries with the most Starbucks establishments')\n",
    "plt.xlabel('Country')\n",
    "plt.ylabel('Number of Starbucks establishments')\n",
    "plt.show()"
   ]
  },
  {
   "cell_type": "code",
   "execution_count": 15,
   "id": "996e53a5",
   "metadata": {},
   "outputs": [
    {
     "data": {
      "text/plain": [
       "Company Owned    11932\n",
       "Licensed          9375\n",
       "Joint Venture     3976\n",
       "Franchise          317\n",
       "Name: Ownership Type, dtype: int64"
      ]
     },
     "execution_count": 15,
     "metadata": {},
     "output_type": "execute_result"
    }
   ],
   "source": [
    "star['Ownership Type'].value_counts()"
   ]
  },
  {
   "cell_type": "markdown",
   "id": "81ea0dcd",
   "metadata": {},
   "source": [
    "Based on the high level of storefronts in Shanghai, China that have twice as many stores than any other city in the world, it is clear that Starbucks is quite popular among the Chinese in major cities. Additionally, with Beijing in the top 3 most Starbucks-filled cities worldwide, it would be wise of the China branch of Starbucks to condiser opening additional locations in other highly populated Chinese cities. \n",
    "\n",
    "A list of these cities and their populations include:\n",
    "    Guangzhou: 19 million,\n",
    "    Shenzhen: 18 million,\n",
    "    Chongqing: 31 million,\n",
    "    Chengdu: 21 million."
   ]
  },
  {
   "cell_type": "markdown",
   "id": "ec5f0f5c",
   "metadata": {},
   "source": [
    "Considering the number of Shanghai storefronts and the city's population size (25 million), the larger city of Chongqing (31 million) appears to be a very strong potential location for future profitable storefronts. I would advise that Starbucks open more locations in densely populated urban areas such as Chongqing. \n",
    "\n",
    "Additionally, Canada has the third most storefronts worldwide, and Toronto is the country's most profitable city with the most storefronts located here. Since the city of Toronto holds enough value in comparison to other cities, listed as the city with the 6th most Starbucks locations worldwide, I would suggest increasing the amount of storefronts in other major Canadian cities, for example Montreal and Calgary, as these are the next most populous cities in the country. "
   ]
  },
  {
   "cell_type": "code",
   "execution_count": null,
   "id": "f2d31a4f",
   "metadata": {},
   "outputs": [],
   "source": []
  }
 ],
 "metadata": {
  "kernelspec": {
   "display_name": "Python 3 (ipykernel)",
   "language": "python",
   "name": "python3"
  },
  "language_info": {
   "codemirror_mode": {
    "name": "ipython",
    "version": 3
   },
   "file_extension": ".py",
   "mimetype": "text/x-python",
   "name": "python",
   "nbconvert_exporter": "python",
   "pygments_lexer": "ipython3",
   "version": "3.9.12"
  }
 },
 "nbformat": 4,
 "nbformat_minor": 5
}
